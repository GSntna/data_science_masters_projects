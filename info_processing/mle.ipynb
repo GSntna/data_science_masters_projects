{
 "cells": [
  {
   "attachments": {},
   "cell_type": "markdown",
   "metadata": {},
   "source": [
    "Gustavo Santana Velázquez\n",
    "\n",
    "# Introducción\n",
    "\n",
    "En este trabajo, se escribieron varios scripts en Python que permiten determinar\n",
    "la probabilidad de formar bigramas y frases a partir de un texto, utilizando el\n",
    "*Modelo de Máxima Versoimilitud* (MLE) y el *Modelo de Máxima Verosimilitud con*\n",
    "*suavizado de Laplace.*\n",
    "\n",
    "El modelo MLE, permite estimar la probabilidad de ocurrencia de un brigrama o\n",
    "frase a partir de las frecuencias de los mismos corpus de texto. Por otro lado,\n",
    "el modelo de MLE con suavizado de Laplace permite corregir los problemas de\n",
    "estimación de probabilidades que se presentan cuando hay bigramas o frases que\n",
    "no aparecen en el corpus.\n",
    "\n",
    "Para calcular la probabilidad de un bigrama $xy$ en el corpus, donde cada variable\n",
    "representa una palabra, se utiliza la siguiente fórmula para el modelo MLE:\n",
    "\n",
    "$$P(y|x) = \\frac{C(xy)}{C(x)}$$\n",
    "\n",
    "Es sencillo observar que utilizando este modelo, los bigramas que no ocurren en\n",
    "el texto tendrían una probabilidad de $0$, por lo que al momento de medir la\n",
    "probabilidad de ocurrencia de una oración, se obtendría un resultado de 0 con que\n",
    "uno solo de los bigramas que conforman la oración no existan en el corpus.\n",
    "\n",
    "Para corregir esto se utiliza la técnica de suavizado Laplace:\n",
    "\n",
    "$$P_{Lap}(y|x) = \\frac{C(xy) + 1}{C(x) + V}$$\n",
    "\n",
    "donde $v$ es el tamaño del vocabulario (el número total de palabras diferentes\n",
    "en el corpus).\n",
    "\n",
    "Para este ejercicio el corpus fueron documentso de una conferencia del parlamento\n",
    "europeo en español. Sin embargo todas las funciones creadas funcionan para cualquier\n",
    "texto."
   ]
  },
  {
   "attachments": {},
   "cell_type": "markdown",
   "metadata": {},
   "source": [
    "# Desarrollo\n",
    "\n",
    "Se comenzó por elaborar una función para el pre-procesamiento del texto (remover\n",
    "símbolos y cambiar todos los caracteres a minúsuclas). Posteriormente se hizo la\n",
    "carga del texto (*Apéndice 5.2*).\n",
    "\n",
    "Posteriormente se creó una función para guardar las probabilidades de ocurrencia\n",
    "de cada bigrama en el texto en diccionarios. El reto en esta función era que los\n",
    "diccionarios no pueden tener listas como llaves, por lo que se tuvo que castear\n",
    "a *strings* cada bigrama previo a hacer el cálculo.\n",
    "\n",
    "También se desarrolló la función para la técnica de suavizado de laplace, en este\n",
    "caso también se regresa el conteo de los unigramas para poderlos utilizar si se\n",
    "quiere estimar la probabilidad de bigramas que no ocurren en el texto (*Apéndice*\n",
    "*5.3*).\n",
    "\n",
    "Los objetivos del proyecto eran utilizar el modelo MLE y MLE con suavizado de Laplace\n",
    "para:\n",
    "\n",
    "1. Calcular los modelos de probabilidad para bigramas sobre el corpus,\n",
    "2. Obtener la probabilidad de oraciones, y\n",
    "3. Predicción de palabras: generar un script que sugiera las 5 palabras con mayor\n",
    "probabilidad dada una palabra inicial.\n",
    "\n",
    "Por lo que finalmente se escribieron tres funciones para cumplir con los puntos\n",
    "solicitados y se realizaron las pruebas (*Apéndice 5.4*)."
   ]
  },
  {
   "attachments": {},
   "cell_type": "markdown",
   "metadata": {},
   "source": [
    "## Resultados\n",
    "\n",
    "En el Apéndice 5.4 se pueden observar los resultados obtenidos.\n",
    "\n",
    "En la sección 5.4.2 se observa la probabilidad de ocurrencia de 7 oraciones\n",
    "diferentes utilizando ambos modelos. Podemos observar que en la sexta, *el abismo*\n",
    "*de la cantera entre pobres y ricos*, utilizando el modelo MLE se obtiene un\n",
    "resultado de 0, mientras que con la técnica de suavizado obtenemos una probabilidad\n",
    "mayor a 0 (aunque bastante pequeña). Esto es debido a que ni el bigrama [la cantera]\n",
    "ni [cantera entre] existen en el corpus.\n",
    "\n",
    "Finalmente, en la sección 5.4.3 se lleva a cabo una simulación de predicción de\n",
    "palabras utilizando la probabilidad de los bigramas. Se observa que ambos modelos\n",
    "regresan el mismo top 5."
   ]
  },
  {
   "attachments": {},
   "cell_type": "markdown",
   "metadata": {},
   "source": [
    "# Conclusiones\n",
    "\n",
    "El modelo de MLE ha permitido estimar la probabilidad de ocurrencia de bigramas\n",
    "a partir de un corpus de texto, basándose en la frecuencia con que estos bigramas\n",
    "aparecen en el corpus. Sin embargo, este modelo puede presentar problemas de\n",
    "estimación cuando hay bigramas que no aparecen en el corpus, lo que puede afectar\n",
    "la precisión de las predicciones.\n",
    "\n",
    "Para resolver este problema, se ha utilizado el modelo de MLE con suavizado de\n",
    "Laplace, que agrega una unidad a cada conteo de bigramas para corregir las\n",
    "estimaciones de probabilidad y evitar que la probabilidad sea cero.\n",
    "\n",
    "En general, este programa tiene aplicaciones prácticas en el procesamiento del\n",
    "lenguaje natural, como la generación de texto y la corrección ortográfica, y\n",
    "puede ser utilizado para mejorar la precisión de las predicciones de palabras en\n",
    "diferentes contextos (autocompletado de texto, corrección ortográfica, entre otras)."
   ]
  },
  {
   "attachments": {},
   "cell_type": "markdown",
   "metadata": {},
   "source": [
    "# Bibliografía\n",
    "\n",
    "[Jurafsky, D., James H. M. (2021). *Chapter 3 N-gram Language Models*. Speech and Language Processing (3rd edition). Stanford University](https://web.stanford.edu/~jurafsky/slp3/ed3book.pdf)"
   ]
  },
  {
   "cell_type": "markdown",
   "metadata": {},
   "source": [
    "# Apéndice"
   ]
  },
  {
   "attachments": {},
   "cell_type": "markdown",
   "metadata": {},
   "source": [
    "## Librerías"
   ]
  },
  {
   "cell_type": "code",
   "execution_count": 1,
   "metadata": {},
   "outputs": [],
   "source": [
    "from nltk.corpus import stopwords\n",
    "import io\n",
    "from collections import Counter\n",
    "import numpy as np"
   ]
  },
  {
   "attachments": {},
   "cell_type": "markdown",
   "metadata": {},
   "source": [
    "## Carga y procesamiento de datos"
   ]
  },
  {
   "cell_type": "code",
   "execution_count": 17,
   "metadata": {},
   "outputs": [],
   "source": [
    "symbols = list(set(\"«—;:,.\\\\-\\\"'/()[]¿?¡!{}~<>|\\r_'\\n'`\"))\n",
    "\n",
    "def preprocess(txt):\n",
    "    '''\n",
    "    Función para remover símbolos y cambiar a minúsculas un texto dado\n",
    "    '''\n",
    "    txt = txt.lower()\n",
    "    return ''.join([c for c in txt if c not in symbols])"
   ]
  },
  {
   "cell_type": "code",
   "execution_count": 3,
   "metadata": {},
   "outputs": [],
   "source": [
    "europarl = ' '.join([f'<s> {preprocess(line)} </s>' for line in io.open(f'./europarl.es', 'r', encoding = 'UTF-8').readlines()])"
   ]
  },
  {
   "cell_type": "markdown",
   "metadata": {},
   "source": [
    "## Definir funciones"
   ]
  },
  {
   "cell_type": "code",
   "execution_count": 4,
   "metadata": {},
   "outputs": [],
   "source": [
    "def mle_bigram(text):\n",
    "    '''\n",
    "    Regresa la probabilidad de ocurrencia de cada bigrama en un texto siguiendo\n",
    "    el modelo de Máxima verosimilitud.\n",
    "    '''\n",
    "    # Get list of bigrams from the text\n",
    "    bigrams = Counter([f'{text[i]} {text[i+1]}' for i in range(len(text)-1)])\n",
    "    unigrams = Counter(text)\n",
    "\n",
    "    # Get probabilites\n",
    "    mle_probs = {}\n",
    "    for key, value in bigrams.items():\n",
    "        mle_probs[key] = value/unigrams[key.split()[0]]\n",
    "\n",
    "    # Return probabilities\n",
    "    return mle_probs\n",
    "\n",
    "def mle_bigram_laplace(text):\n",
    "    '''\n",
    "    Regresa la probabilidad de ocurrencia de cada bigrama en un texto siguiendo\n",
    "    el modelo de Máxima verosimilitud con suavizado de Laplace. También regresa\n",
    "    el conteo de los unigramas en el texto para bigramas que no ocurran en el\n",
    "    texto.\n",
    "    '''\n",
    "    # Get list of bigrams from the text\n",
    "    bigrams = Counter([f'{text[i]} {text[i+1]}' for i in range(len(text)-1)])\n",
    "    unigrams = Counter(text)\n",
    "\n",
    "    # Get value of V\n",
    "    v = len(unigrams)\n",
    "\n",
    "    # Get probabilites\n",
    "    mle_probs = {'v': v}\n",
    "    for key, value in bigrams.items():\n",
    "        mle_probs[key] = (value + 1)/(unigrams[key.split()[0]] + v)\n",
    "\n",
    "    # Return probabilities\n",
    "    return mle_probs, unigrams"
   ]
  },
  {
   "cell_type": "code",
   "execution_count": 5,
   "metadata": {},
   "outputs": [],
   "source": [
    "def prob_oracion(sentence, probs, unigrams_laplace = False):\n",
    "    '''\n",
    "    Obtiene la probabilidad de ocurrencia de una oración a partir de las\n",
    "    probabilidades de bigramas dadas. Toma como argumentos, la oración,\n",
    "    las probabilidades de bigramas y la cuenta de unigramas si se utiliza\n",
    "    la función suavizada de laplace.\n",
    "    '''\n",
    "    words = f'<s> {sentence} </s>'.split()\n",
    "    prob = 1\n",
    "    # Loop para multiplicar las probabilidades de cada bigrama\n",
    "    for i in range(len(words)-1):\n",
    "        if f'{words[i]} {words[i+1]}' in probs:\n",
    "            prob *= probs[f'{words[i]} {words[i+1]}']\n",
    "        # Caso en el que se está utilizando el suavizado de laplace en bigramas\n",
    "        # que no aparecen en el texto\n",
    "        elif unigrams_laplace != False:\n",
    "            prob *= 1/(unigrams_laplace[words[i]] + probs['v'])\n",
    "        # Caso MLE no suavizado en el que un bigrama no exista (0 probabilidad)\n",
    "        else:\n",
    "            prob = 0\n",
    "            break\n",
    "    return f'P(<s> {sentence} </s>): {prob}'\n",
    "\n",
    "\n",
    "def top5(probs, word):\n",
    "    '''\n",
    "    Regresa las 5 palabras con mayor probabilidad de ocurrir después de una\n",
    "    palabra dada. Toma como argumentos un diccionario con la probabilidad MLE o\n",
    "    MLE suavizado de bigramas previamente calculado y la palabra base.\n",
    "    '''\n",
    "    # Regresa solo los bigramas que tengan la palabra dada como word_1, excluye\n",
    "    # bigramas que representen el inicio o final de una oración\n",
    "    res = {key:value for key,value in probs.items() if key.split()[0] == word and '<s>' not in key and '</s>' not in key}\n",
    "    # Ordena las palabras de mayor a menor probabilidad y regresa 5\n",
    "    values = list(sorted(res.items(), key=lambda x:x[1], reverse=True)[:5])\n",
    "    return values\n",
    "\n",
    "def prediccion_palabras(probs, sentence):\n",
    "    '''\n",
    "    Itera la función top5 para las palabras de una oración dada.\n",
    "    Imprime los resultados\n",
    "    '''\n",
    "    words = sentence.split()\n",
    "    sent = ''\n",
    "    for word in words:\n",
    "        sent += f' {word}'\n",
    "        print(f'\\n{sent}...')\n",
    "        predictions = top5(probs, word)\n",
    "        for predict in predictions:\n",
    "            print(f'\\t{predict[0].split()[1]}: {predict[1]}')"
   ]
  },
  {
   "attachments": {},
   "cell_type": "markdown",
   "metadata": {},
   "source": [
    "## Puntos solicitados\n",
    "\n",
    "### Calcular modelos de probabilidad MLE y MLE con suavizado de Laplace para un modelo de bigramas"
   ]
  },
  {
   "cell_type": "code",
   "execution_count": 6,
   "metadata": {},
   "outputs": [],
   "source": [
    "# MLE\n",
    "mle_probs = mle_bigram(europarl.split())\n",
    "\n",
    "# Laplace\n",
    "mle_laplace, mle_unigrams = mle_bigram_laplace(europarl.split())"
   ]
  },
  {
   "attachments": {},
   "cell_type": "markdown",
   "metadata": {},
   "source": [
    "### Calcular probabilidades de las siguientes oraciones\n",
    "\n",
    "#### Modelo MLE"
   ]
  },
  {
   "cell_type": "code",
   "execution_count": 7,
   "metadata": {},
   "outputs": [
    {
     "name": "stdout",
     "output_type": "stream",
     "text": [
      "P(<s> el parlamento debe enviar un mensaje </s>): 4.452453175934305e-13\n",
      "P(<s> el parlamento debe enviar un consejo </s>): 3.3686200213034554e-13\n",
      "P(<s> el abismo entre pobres y ricos </s>): 3.820757157773409e-17\n",
      "P(<s> el abismo entre ricos y pobres </s>): 8.677949590529031e-15\n",
      "P(<s> el abismo de la cantera entre pobres y ricos </s>): 0\n",
      "P(<s> la comisión debe ser totalmente transparente </s>): 3.609720553302905e-11\n",
      "P(<s> la comisión debe ser transparente </s>): 2.560495112476194e-09\n"
     ]
    }
   ],
   "source": [
    "print(prob_oracion('el parlamento debe enviar un mensaje', mle_probs))\n",
    "print(prob_oracion('el parlamento debe enviar un consejo', mle_probs))\n",
    "print(prob_oracion('el abismo entre pobres y ricos', mle_probs))\n",
    "print(prob_oracion('el abismo entre ricos y pobres', mle_probs))\n",
    "print(prob_oracion('el abismo de la cantera entre pobres y ricos', mle_probs))\n",
    "print(prob_oracion('la comisión debe ser totalmente transparente', mle_probs))\n",
    "print(prob_oracion('la comisión debe ser transparente', mle_probs))"
   ]
  },
  {
   "attachments": {},
   "cell_type": "markdown",
   "metadata": {},
   "source": [
    "#### Modelo MLE Suavizado Laplace"
   ]
  },
  {
   "cell_type": "code",
   "execution_count": 8,
   "metadata": {},
   "outputs": [
    {
     "name": "stdout",
     "output_type": "stream",
     "text": [
      "P(<s> el parlamento debe enviar un mensaje </s>): 6.008349191881304e-21\n",
      "P(<s> el parlamento debe enviar un consejo </s>): 9.389536311730697e-20\n",
      "P(<s> el abismo entre pobres y ricos </s>): 1.6784915159931863e-26\n",
      "P(<s> el abismo entre ricos y pobres </s>): 1.1649530402666998e-24\n",
      "P(<s> el abismo de la cantera entre pobres y ricos </s>): 2.2172365002890588e-37\n",
      "P(<s> la comisión debe ser totalmente transparente </s>): 7.519960394741226e-19\n",
      "P(<s> la comisión debe ser transparente </s>): 4.138712748160308e-15\n"
     ]
    }
   ],
   "source": [
    "print(prob_oracion('el parlamento debe enviar un mensaje', mle_laplace, mle_unigrams))\n",
    "print(prob_oracion('el parlamento debe enviar un consejo', mle_laplace, mle_unigrams))\n",
    "print(prob_oracion('el abismo entre pobres y ricos', mle_laplace, mle_unigrams))\n",
    "print(prob_oracion('el abismo entre ricos y pobres', mle_laplace, mle_unigrams))\n",
    "print(prob_oracion('el abismo de la cantera entre pobres y ricos', mle_laplace, mle_unigrams))\n",
    "print(prob_oracion('la comisión debe ser totalmente transparente', mle_laplace, mle_unigrams))\n",
    "print(prob_oracion('la comisión debe ser transparente', mle_laplace, mle_unigrams))"
   ]
  },
  {
   "attachments": {},
   "cell_type": "markdown",
   "metadata": {},
   "source": [
    "### Predicción de palabras (las 5 palabras más probables)\n",
    "\n",
    "#### Modelo MLE"
   ]
  },
  {
   "cell_type": "code",
   "execution_count": 9,
   "metadata": {},
   "outputs": [
    {
     "name": "stdout",
     "output_type": "stream",
     "text": [
      "\n",
      " los...\n",
      "\testados: 0.06970770248705874\n",
      "\tpaíses: 0.04592690616121122\n",
      "\tderechos: 0.03643015607363873\n",
      "\tque: 0.030942279998443154\n",
      "\tciudadanos: 0.025940917759701088\n",
      "\n",
      " los tribunales...\n",
      "\tnacionales: 0.12121212121212122\n",
      "\tde: 0.11363636363636363\n",
      "\ty: 0.05303030303030303\n",
      "\ten: 0.045454545454545456\n",
      "\tdel: 0.03787878787878788\n",
      "\n",
      " los tribunales nacionales...\n",
      "\tde: 0.1360787824529991\n",
      "\ty: 0.135183527305282\n",
      "\ten: 0.050134288272157566\n",
      "\tque: 0.04207699194270367\n",
      "\ta: 0.018800358102059087\n"
     ]
    }
   ],
   "source": [
    "prediccion_palabras(mle_probs, 'los tribunales nacionales')"
   ]
  },
  {
   "cell_type": "code",
   "execution_count": 10,
   "metadata": {},
   "outputs": [
    {
     "name": "stdout",
     "output_type": "stream",
     "text": [
      "\n",
      " la...\n",
      "\tcomisión: 0.06891698430053096\n",
      "\tunión: 0.0376026143632926\n",
      "\tpolítica: 0.011597914791569765\n",
      "\tsra: 0.009972998604625877\n",
      "\tue: 0.009610563767389321\n",
      "\n",
      " la unión...\n",
      "\teuropea: 0.08063568964251633\n",
      "\ty: 0.0031380753138075313\n",
      "\ten: 0.0026058871026939734\n",
      "\tse: 0.0014314027747192248\n",
      "\tde: 0.0013396461865961976\n",
      "\n",
      " la unión europea...\n",
      "\ty: 0.011088746569075937\n",
      "\ten: 0.007099725526075023\n",
      "\tde: 0.0064226898444647755\n",
      "\tque: 0.0038243366880146385\n",
      "\tno: 0.003751143641354071\n"
     ]
    }
   ],
   "source": [
    "prediccion_palabras(mle_laplace, 'la unión europea')"
   ]
  },
  {
   "cell_type": "code",
   "execution_count": 11,
   "metadata": {},
   "outputs": [
    {
     "name": "stdout",
     "output_type": "stream",
     "text": [
      "\n",
      " parlamento...\n",
      "\teuropeo: 0.0348237633972966\n",
      "\ty: 0.0076792751648189755\n",
      "\ten: 0.004640713049243122\n",
      "\taprueba: 0.0031122242274686015\n",
      "\tque: 0.0031122242274686015\n",
      "\n",
      " parlamento europeo...\n",
      "\tde: 0.010966177998383932\n",
      "\ty: 0.006926007156874062\n",
      "\ten: 0.004155604294124437\n",
      "\tque: 0.0025010581399823\n",
      "\tpara: 0.002327907961060449\n",
      "\n",
      " parlamento europeo de...\n",
      "\tla: 0.1396769358566888\n",
      "\tlos: 0.07254045073678128\n",
      "\tlas: 0.04456804391794279\n",
      "\tque: 0.025683509101415775\n",
      "\tuna: 0.015376697486275643\n",
      "\n",
      " parlamento europeo de las...\n",
      "\tenmiendas: 0.010697552113214763\n",
      "\tpersonas: 0.009717441193344807\n",
      "\tque: 0.008904666284184357\n",
      "\tmedidas: 0.008366800535475234\n",
      "\tempresas: 0.008163606808185122\n",
      "\n",
      " parlamento europeo de las personas...\n",
      "\tque: 0.006718314973974095\n",
      "\ty: 0.0024613646451196384\n",
      "\tde: 0.002178912964532139\n",
      "\tmayores: 0.0016543598434410685\n",
      "\ten: 0.0015534842432312472\n"
     ]
    }
   ],
   "source": [
    "prediccion_palabras(mle_laplace, 'parlamento europeo de las personas')"
   ]
  },
  {
   "cell_type": "code",
   "execution_count": 12,
   "metadata": {},
   "outputs": [
    {
     "name": "stdout",
     "output_type": "stream",
     "text": [
      "\n",
      " ejemplo...\n",
      "\ten: 0.13126491646778043\n",
      "\tde: 0.10441527446300716\n",
      "\tla: 0.07279236276849642\n",
      "\tel: 0.06921241050119331\n",
      "\tque: 0.03579952267303103\n",
      "\n",
      " ejemplo del...\n",
      "\tconsejo: 0.06169993117687543\n",
      "\tparlamento: 0.053578802477632484\n",
      "\tsr: 0.03695801789401239\n",
      "\tgrupo: 0.025430144528561596\n",
      "\tdía: 0.023158981417756366\n",
      "\n",
      " ejemplo del modelo...\n",
      "\tde: 0.24013157894736842\n",
      "\tsocial: 0.18421052631578946\n",
      "\teuropeo: 0.05592105263157895\n",
      "\tque: 0.039473684210526314\n",
      "\ten: 0.03289473684210526\n"
     ]
    }
   ],
   "source": [
    "prediccion_palabras(mle_probs, 'ejemplo del modelo')"
   ]
  },
  {
   "attachments": {},
   "cell_type": "markdown",
   "metadata": {},
   "source": [
    "#### Modelo MLE Suavizado Laplace"
   ]
  },
  {
   "cell_type": "code",
   "execution_count": 13,
   "metadata": {},
   "outputs": [
    {
     "name": "stdout",
     "output_type": "stream",
     "text": [
      "\n",
      " los...\n",
      "\testados: 0.03608766593477429\n",
      "\tpaíses: 0.02377978768406422\n",
      "\tderechos: 0.018864693914549886\n",
      "\tque: 0.016024414318232177\n",
      "\tciudadanos: 0.013435932558467457\n",
      "\n",
      " los tribunales...\n",
      "\tnacionales: 0.0003539307128580946\n",
      "\tde: 0.00033311125916055963\n",
      "\ty: 0.00016655562958027982\n",
      "\ten: 0.00014573617588274483\n",
      "\tdel: 0.00012491672218520986\n",
      "\n",
      " los tribunales nacionales...\n",
      "\tde: 0.0031213660566742152\n",
      "\ty: 0.003100964971336475\n",
      "\ten: 0.001162861864251178\n",
      "\tque: 0.0009792520962115185\n",
      "\ta: 0.0004488238774302793\n"
     ]
    }
   ],
   "source": [
    "prediccion_palabras(mle_laplace, 'los tribunales nacionales')"
   ]
  },
  {
   "cell_type": "code",
   "execution_count": 14,
   "metadata": {},
   "outputs": [
    {
     "name": "stdout",
     "output_type": "stream",
     "text": [
      "\n",
      " la...\n",
      "\tcomisión: 0.06891698430053096\n",
      "\tunión: 0.0376026143632926\n",
      "\tpolítica: 0.011597914791569765\n",
      "\tsra: 0.009972998604625877\n",
      "\tue: 0.009610563767389321\n",
      "\n",
      " la unión...\n",
      "\teuropea: 0.08063568964251633\n",
      "\ty: 0.0031380753138075313\n",
      "\ten: 0.0026058871026939734\n",
      "\tse: 0.0014314027747192248\n",
      "\tde: 0.0013396461865961976\n",
      "\n",
      " la unión europea...\n",
      "\ty: 0.011088746569075937\n",
      "\ten: 0.007099725526075023\n",
      "\tde: 0.0064226898444647755\n",
      "\tque: 0.0038243366880146385\n",
      "\tno: 0.003751143641354071\n"
     ]
    }
   ],
   "source": [
    "prediccion_palabras(mle_laplace, 'la unión europea')"
   ]
  },
  {
   "cell_type": "code",
   "execution_count": 15,
   "metadata": {},
   "outputs": [
    {
     "name": "stdout",
     "output_type": "stream",
     "text": [
      "\n",
      " parlamento...\n",
      "\teuropeo: 0.0348237633972966\n",
      "\ty: 0.0076792751648189755\n",
      "\ten: 0.004640713049243122\n",
      "\taprueba: 0.0031122242274686015\n",
      "\tque: 0.0031122242274686015\n",
      "\n",
      " parlamento europeo...\n",
      "\tde: 0.010966177998383932\n",
      "\ty: 0.006926007156874062\n",
      "\ten: 0.004155604294124437\n",
      "\tque: 0.0025010581399823\n",
      "\tpara: 0.002327907961060449\n",
      "\n",
      " parlamento europeo de...\n",
      "\tla: 0.1396769358566888\n",
      "\tlos: 0.07254045073678128\n",
      "\tlas: 0.04456804391794279\n",
      "\tque: 0.025683509101415775\n",
      "\tuna: 0.015376697486275643\n",
      "\n",
      " parlamento europeo de las...\n",
      "\tenmiendas: 0.010697552113214763\n",
      "\tpersonas: 0.009717441193344807\n",
      "\tque: 0.008904666284184357\n",
      "\tmedidas: 0.008366800535475234\n",
      "\tempresas: 0.008163606808185122\n",
      "\n",
      " parlamento europeo de las personas...\n",
      "\tque: 0.006718314973974095\n",
      "\ty: 0.0024613646451196384\n",
      "\tde: 0.002178912964532139\n",
      "\tmayores: 0.0016543598434410685\n",
      "\ten: 0.0015534842432312472\n"
     ]
    }
   ],
   "source": [
    "prediccion_palabras(mle_laplace, 'parlamento europeo de las personas')"
   ]
  },
  {
   "cell_type": "code",
   "execution_count": 16,
   "metadata": {},
   "outputs": [
    {
     "name": "stdout",
     "output_type": "stream",
     "text": [
      "\n",
      " ejemplo...\n",
      "\ten: 0.004457802162336614\n",
      "\tde: 0.0035501048894626434\n",
      "\tla: 0.002481039212522188\n",
      "\tel: 0.0023600129094723254\n",
      "\tque: 0.0012304340810069389\n",
      "\n",
      " ejemplo del...\n",
      "\tconsejo: 0.023310810810810812\n",
      "\tparlamento: 0.020244282744282745\n",
      "\tsr: 0.013968295218295219\n",
      "\tgrupo: 0.009615384615384616\n",
      "\tdía: 0.008757796257796258\n",
      "\n",
      " ejemplo del modelo...\n",
      "\tde: 0.001535142311841341\n",
      "\tsocial: 0.0011824744834453573\n",
      "\teuropeo: 0.0003734129947722181\n",
      "\tque: 0.00026968716289104636\n",
      "\ten: 0.0002281968301385777\n"
     ]
    }
   ],
   "source": [
    "prediccion_palabras(mle_laplace, 'ejemplo del modelo')"
   ]
  }
 ],
 "metadata": {
  "kernelspec": {
   "display_name": "venv",
   "language": "python",
   "name": "python3"
  },
  "language_info": {
   "codemirror_mode": {
    "name": "ipython",
    "version": 3
   },
   "file_extension": ".py",
   "mimetype": "text/x-python",
   "name": "python",
   "nbconvert_exporter": "python",
   "pygments_lexer": "ipython3",
   "version": "3.10.6"
  },
  "orig_nbformat": 4
 },
 "nbformat": 4,
 "nbformat_minor": 2
}
